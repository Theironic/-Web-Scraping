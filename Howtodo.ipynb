{
 "cells": [
  {
   "cell_type": "markdown",
   "metadata": {},
   "source": [
    "# I only used this code for study"
   ]
  },
  {
   "cell_type": "code",
   "execution_count": 7,
   "metadata": {},
   "outputs": [],
   "source": [
    "from bs4 import BeautifulSoup"
   ]
  },
  {
   "cell_type": "code",
   "execution_count": 8,
   "metadata": {},
   "outputs": [],
   "source": [
    "html = \"\"\"<!DOCTYPE html>\n",
    "<html lang=\"en\">\n",
    "<head>\n",
    "    <meta charset=\"UTF-8\">\n",
    "    <meta http-equiv=\"X-UA-Compatible\" content=\"IE=edge\">\n",
    "    <meta name=\"viewport\" content=\"width=device-width, initial-scale=1.0\">\n",
    "    <title>Web_scraping_Ada</title>\n",
    "</head>\n",
    "<body>\n",
    "    <h1> Essa é a aula 2 de web scraping da ada</h1>\n",
    "    <h6 class = \"teste\"> esse é um subtitulo</h6>\n",
    "    <p> esse é um paragrafo</p>\n",
    "    <p> esse é um outro paragrafo</p>\n",
    "    \n",
    "\n",
    "    <ul>\n",
    "        <li id=\"teste2\">Item 1</li>\n",
    "        <li>Item 2</li>\n",
    "    </ul>\n",
    "\n",
    "    <ol>\n",
    "        <li>Primeiro item</li>\n",
    "        <li>Segundo item</li>\n",
    "    </ol>\n",
    "</body>\n",
    "</html>\"\"\"\n",
    "\n",
    "html_parsed = BeautifulSoup(html,\"html.parser\")"
   ]
  },
  {
   "cell_type": "markdown",
   "metadata": {},
   "source": [
    "# how to improve html indentation"
   ]
  },
  {
   "cell_type": "code",
   "execution_count": 10,
   "metadata": {},
   "outputs": [
    {
     "name": "stdout",
     "output_type": "stream",
     "text": [
      "<!DOCTYPE html>\n",
      "<html lang=\"en\">\n",
      " <head>\n",
      "  <meta charset=\"utf-8\"/>\n",
      "  <meta content=\"IE=edge\" http-equiv=\"X-UA-Compatible\"/>\n",
      "  <meta content=\"width=device-width, initial-scale=1.0\" name=\"viewport\"/>\n",
      "  <title>\n",
      "   Web_scraping_Ada\n",
      "  </title>\n",
      " </head>\n",
      " <body>\n",
      "  <h1>\n",
      "   Essa é a aula 2 de web scraping da ada\n",
      "  </h1>\n",
      "  <h6 class=\"teste\">\n",
      "   esse é um subtitulo\n",
      "  </h6>\n",
      "  <p>\n",
      "   esse é um paragrafo\n",
      "  </p>\n",
      "  <p>\n",
      "   esse é um outro paragrafo\n",
      "  </p>\n",
      "  <ul>\n",
      "   <li id=\"teste2\">\n",
      "    Item 1\n",
      "   </li>\n",
      "   <li>\n",
      "    Item 2\n",
      "   </li>\n",
      "  </ul>\n",
      "  <ol>\n",
      "   <li>\n",
      "    Primeiro item\n",
      "   </li>\n",
      "   <li>\n",
      "    Segundo item\n",
      "   </li>\n",
      "  </ol>\n",
      " </body>\n",
      "</html>\n",
      "\n"
     ]
    }
   ],
   "source": [
    "print(html_parsed.prettify())"
   ]
  },
  {
   "cell_type": "code",
   "execution_count": 13,
   "metadata": {},
   "outputs": [
    {
     "data": {
      "text/plain": [
       "[<ol>\n",
       " <li>Primeiro item</li>\n",
       " <li>Segundo item</li>\n",
       " </ol>]"
      ]
     },
     "execution_count": 13,
     "metadata": {},
     "output_type": "execute_result"
    }
   ],
   "source": [
    "html_parsed.find(\"h1\")\n",
    "# find() finds html tag\n",
    "html_parsed.find_all('ol')"
   ]
  }
 ],
 "metadata": {
  "kernelspec": {
   "display_name": "Python 3",
   "language": "python",
   "name": "python3"
  },
  "language_info": {
   "codemirror_mode": {
    "name": "ipython",
    "version": 3
   },
   "file_extension": ".py",
   "mimetype": "text/x-python",
   "name": "python",
   "nbconvert_exporter": "python",
   "pygments_lexer": "ipython3",
   "version": "3.10.12"
  }
 },
 "nbformat": 4,
 "nbformat_minor": 2
}
